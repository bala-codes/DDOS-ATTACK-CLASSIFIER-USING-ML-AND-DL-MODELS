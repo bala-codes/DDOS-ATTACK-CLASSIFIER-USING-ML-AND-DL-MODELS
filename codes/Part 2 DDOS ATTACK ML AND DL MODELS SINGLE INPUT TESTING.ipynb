{
  "nbformat": 4,
  "nbformat_minor": 0,
  "metadata": {
    "colab": {
      "name": "Part 2. DDOS -ATTACK-ML MODELS AND DEEP LEARNING - SINGLE INPUT EDITION.ipynb",
      "provenance": [],
      "collapsed_sections": [],
      "include_colab_link": true
    },
    "kernelspec": {
      "name": "python3",
      "display_name": "Python 3"
    }
  },
  "cells": [
    {
      "cell_type": "markdown",
      "metadata": {
        "id": "view-in-github",
        "colab_type": "text"
      },
      "source": [
        "<a href=\"https://colab.research.google.com/github/bala-codes/DDOS-ATTACK-CLASSIFIER-USING-ML-AND-DL-MODELS/blob/master/codes/Part%202%20DDOS%20ATTACK%20ML%20AND%20DL%20MODELS%20SINGLE%20INPUT%20TESTING.ipynb\" target=\"_parent\"><img src=\"https://colab.research.google.com/assets/colab-badge.svg\" alt=\"Open In Colab\"/></a>"
      ]
    },
    {
      "cell_type": "code",
      "metadata": {
        "id": "dR0KHyxgjlac",
        "colab_type": "code",
        "colab": {
          "base_uri": "https://localhost:8080/",
          "height": 125
        },
        "outputId": "51dcb663-1d0a-49a9-99c8-88a3515cc6cb"
      },
      "source": [
        "from google.colab import drive\n",
        "drive.mount('/content/drive')"
      ],
      "execution_count": null,
      "outputs": [
        {
          "output_type": "stream",
          "text": [
            "Go to this URL in a browser: https://accounts.google.com/o/oauth2/auth?client_id=947318989803-6bn6qk8qdgf4n4g3pfee6491hc0brc4i.apps.googleusercontent.com&redirect_uri=urn%3Aietf%3Awg%3Aoauth%3A2.0%3Aoob&scope=email%20https%3A%2F%2Fwww.googleapis.com%2Fauth%2Fdocs.test%20https%3A%2F%2Fwww.googleapis.com%2Fauth%2Fdrive%20https%3A%2F%2Fwww.googleapis.com%2Fauth%2Fdrive.photos.readonly%20https%3A%2F%2Fwww.googleapis.com%2Fauth%2Fpeopleapi.readonly&response_type=code\n",
            "\n",
            "Enter your authorization code:\n",
            "··········\n",
            "Mounted at /content/drive\n"
          ],
          "name": "stdout"
        }
      ]
    },
    {
      "cell_type": "code",
      "metadata": {
        "id": "yeVw6XutjvGb",
        "colab_type": "code",
        "colab": {
          "base_uri": "https://localhost:8080/",
          "height": 34
        },
        "outputId": "ed069ca9-0c2f-4cd2-9e7b-63957e49a0d6"
      },
      "source": [
        "import pandas as pd\n",
        "import pickle\n",
        "import keras\n",
        "import warnings\n",
        "warnings.filterwarnings(\"ignore\")\n",
        "import numpy as np\n",
        "import matplotlib.pyplot as plt\n",
        "plt.style.use('ggplot')\n",
        "import os\n",
        "os.environ['TF_CPP_MIN_LOG_LEVEL'] = '3' \n",
        "import tensorflow as tf\n",
        "try:\n",
        "    from tensorflow.python.util import module_wrapper as deprecation\n",
        "except ImportError:\n",
        "    from tensorflow.python.util import deprecation_wrapper as deprecation\n",
        "deprecation._PER_MODULE_WARNING_LIMIT = 0\n",
        "\n",
        "from tensorflow.python.util import deprecation\n",
        "deprecation._PRINT_DEPRECATION_WARNINGS = False\n",
        "keras.__version__"
      ],
      "execution_count": null,
      "outputs": [
        {
          "output_type": "execute_result",
          "data": {
            "text/plain": [
              "'2.2.5'"
            ]
          },
          "metadata": {
            "tags": []
          },
          "execution_count": 91
        }
      ]
    },
    {
      "cell_type": "code",
      "metadata": {
        "id": "mwn2q10LjyZf",
        "colab_type": "code",
        "colab": {}
      },
      "source": [
        "test = pd.read_csv('/content/drive/My Drive/Machine Learning Projects/DDOS-ATTACK CLASSIFIER/ddoscleaned.csv')\n",
        "test = pd.DataFrame(test)\n",
        "test.head()\n",
        "\n",
        "testdf = test.drop('label', axis = 1)\n"
      ],
      "execution_count": null,
      "outputs": []
    },
    {
      "cell_type": "code",
      "metadata": {
        "id": "6bZymD7okJMU",
        "colab_type": "code",
        "colab": {
          "base_uri": "https://localhost:8080/",
          "height": 34
        },
        "outputId": "fa4e31cb-c390-4839-957c-653a1634cd12"
      },
      "source": [
        "with open(\"/content/drive/My Drive/Machine Learning Projects/DDOS-ATTACK CLASSIFIER/Pretrained Models/dtc_classifier.pkl\", \"rb\") as fin:\n",
        "  dtc_classifier = pickle.load(fin)\n",
        "\n",
        "with open(\"/content/drive/My Drive/Machine Learning Projects/DDOS-ATTACK CLASSIFIER/Pretrained Models/knn_classifier.pkl\", \"rb\") as fin:\n",
        "  knn_classifier = pickle.load(fin)\n",
        "\n",
        "with open(\"/content/drive/My Drive/Machine Learning Projects/DDOS-ATTACK CLASSIFIER/Pretrained Models/logreg_classifier.pkl\", \"rb\") as fin:\n",
        "  logreg_classifier = pickle.load(fin)\n",
        "\n",
        "with open(\"/content/drive/My Drive/Machine Learning Projects/DDOS-ATTACK CLASSIFIER/Pretrained Models/nb_classifier.pkl\", \"rb\") as fin:\n",
        "  nb_classifier = pickle.load(fin)\n",
        "\n",
        "with open(\"/content/drive/My Drive/Machine Learning Projects/DDOS-ATTACK CLASSIFIER/Pretrained Models/rfc_classifier.pkl\", \"rb\") as fin:\n",
        "  rfc_classifier = pickle.load(fin)\n",
        "\n",
        "with open(\"/content/drive/My Drive/Machine Learning Projects/DDOS-ATTACK CLASSIFIER/Pretrained Models/standard_scaler.pkl\", \"rb\") as fin:\n",
        "  standard_scaler = pickle.load(fin)\n",
        "\n",
        "from keras.models import load_model\n",
        "model = load_model('/content/drive/My Drive/Machine Learning Projects/DDOS-ATTACK CLASSIFIER/ddosclassifier-neuralnetwork.h5')\n",
        "\n",
        "print(\"SUCCESS ALL MODELS LOADED + STANDARD SCALER LOADED + NEURAL NETWORK MODEL LOADED\")"
      ],
      "execution_count": null,
      "outputs": [
        {
          "output_type": "stream",
          "text": [
            "SUCCESS ALL MODELS LOADED + STANDARD SCALER LOADED + NEURAL NETWORK MODEL LOADED\n"
          ],
          "name": "stdout"
        }
      ]
    },
    {
      "cell_type": "code",
      "metadata": {
        "id": "JD-pGU15lhX-",
        "colab_type": "code",
        "colab": {}
      },
      "source": [
        "def ensemble(x):\n",
        "  pred1 = dtc_classifier.predict_proba(x)\n",
        "  pred2 = knn_classifier.predict_proba(x)\n",
        "  pred3 = logreg_classifier.predict_proba(x)\n",
        "  pred4 = nb_classifier.predict_proba(x)\n",
        "  pred5 = rfc_classifier.predict_proba(x)\n",
        "\n",
        "  test_pred_prob = np.mean([pred1, pred2, pred3, pred4, pred5], axis=0)\n",
        "  predsk = np.argmax(test_pred_prob, axis=1)\n",
        "\n",
        "  x1 = standard_scaler.transform(x)\n",
        "  y = model.predict(x1)\n",
        "  prednn = np.argmax(y, axis=1)\n",
        "  \n",
        "  return predsk,prednn\n",
        "\n",
        "attack = [['Normal'],['neptune','back','land','pod','smurf','teardrop','mailbomb','apache2','processtable','udpstorm','worm'],\n",
        "          ['ipsweep','nmap','portsweep','satan','mscan','saint'],\n",
        "          ['ftp_write','guess_passwd','imap','multihop','phf','spy','warezclient','warezmaster','sendmail','named','snmpgetattack','snmpguess','xlock','xsnoop','httptunnel'],\n",
        "          ['buffer_overflow','loadmodule','perl','rootkit','ps','sqlattack','xterm']]"
      ],
      "execution_count": null,
      "outputs": []
    },
    {
      "cell_type": "code",
      "metadata": {
        "id": "R6ZzicPjpY3e",
        "colab_type": "code",
        "colab": {}
      },
      "source": [
        "def final(preds):\n",
        "  attack = [['Normal'],['neptune','back','land','pod','smurf','teardrop','mailbomb','apache2','processtable','udpstorm','worm'],\n",
        "          ['ipsweep','nmap','portsweep','satan','mscan','saint'],\n",
        "          ['ftp_write','guess_passwd','imap','multihop','phf','spy','warezclient','warezmaster','sendmail','named','snmpgetattack','snmpguess','xlock','xsnoop','httptunnel'],\n",
        "          ['buffer_overflow','loadmodule','perl','rootkit','ps','sqlattack','xterm']]\n",
        "          \n",
        "  preds = np.squeeze(preds)\n",
        "  if preds == 0:\n",
        "    return str(\"THERE IS NO ATTACK DETECTED OR \") + str(attack[0])\n",
        "  elif preds == 1:\n",
        "    return str(\"Attack Detected and it could be possibly any of them \") + str(attack[1])\n",
        "  elif preds == 2:\n",
        "    return str(\"Attack Detected and it could be possibly any of them \") + str(attack[2])\n",
        "  elif preds == 3:\n",
        "    return str(\"Attack Detected and it could be possibly any of them \") + str(attack[3])\n",
        "  else: \n",
        "    return str(\"Attack Detected and it could be possibly any of them \") + str(attack[4])"
      ],
      "execution_count": null,
      "outputs": []
    },
    {
      "cell_type": "code",
      "metadata": {
        "id": "vCVT96twl69q",
        "colab_type": "code",
        "colab": {
          "base_uri": "https://localhost:8080/",
          "height": 301
        },
        "outputId": "f2fabb57-43c0-47ec-c271-8af45eb7f378"
      },
      "source": [
        "sample = testdf[-2:-1].values\n",
        "print(sample)"
      ],
      "execution_count": null,
      "outputs": [
        {
          "output_type": "stream",
          "text": [
            "[[0.00e+00 0.00e+00 0.00e+00 0.00e+00 0.00e+00 0.00e+00 0.00e+00 0.00e+00\n",
            "  0.00e+00 0.00e+00 0.00e+00 0.00e+00 0.00e+00 0.00e+00 0.00e+00 0.00e+00\n",
            "  0.00e+00 0.00e+00 0.00e+00 1.44e+02 8.00e+00 1.00e+00 1.00e+00 0.00e+00\n",
            "  0.00e+00 6.00e-02 5.00e-02 0.00e+00 2.55e+02 8.00e+00 3.00e-02 5.00e-02\n",
            "  0.00e+00 0.00e+00 1.00e+00 1.00e+00 0.00e+00 0.00e+00 0.00e+00 1.00e+00\n",
            "  0.00e+00 0.00e+00 0.00e+00 0.00e+00 0.00e+00 0.00e+00 0.00e+00 0.00e+00\n",
            "  0.00e+00 0.00e+00 0.00e+00 0.00e+00 0.00e+00 0.00e+00 0.00e+00 0.00e+00\n",
            "  0.00e+00 0.00e+00 0.00e+00 0.00e+00 0.00e+00 0.00e+00 0.00e+00 0.00e+00\n",
            "  0.00e+00 0.00e+00 0.00e+00 0.00e+00 0.00e+00 0.00e+00 0.00e+00 1.00e+00\n",
            "  0.00e+00 0.00e+00 0.00e+00 0.00e+00 0.00e+00 0.00e+00 0.00e+00 0.00e+00\n",
            "  0.00e+00 0.00e+00 0.00e+00 0.00e+00 0.00e+00 0.00e+00 0.00e+00 0.00e+00\n",
            "  0.00e+00 0.00e+00 0.00e+00 0.00e+00 0.00e+00 0.00e+00 0.00e+00 0.00e+00\n",
            "  0.00e+00 0.00e+00 0.00e+00 0.00e+00 0.00e+00 0.00e+00 0.00e+00 0.00e+00\n",
            "  0.00e+00 0.00e+00 0.00e+00 0.00e+00 0.00e+00 0.00e+00 0.00e+00 0.00e+00\n",
            "  0.00e+00 0.00e+00 0.00e+00 0.00e+00 1.00e+00 0.00e+00 0.00e+00 0.00e+00\n",
            "  0.00e+00 0.00e+00]]\n"
          ],
          "name": "stdout"
        }
      ]
    },
    {
      "cell_type": "markdown",
      "metadata": {
        "id": "xwtRt-2yAd3V",
        "colab_type": "text"
      },
      "source": [
        "# Single Input prediction"
      ]
    },
    {
      "cell_type": "code",
      "metadata": {
        "id": "3S741IRCmLYJ",
        "colab_type": "code",
        "colab": {
          "base_uri": "https://localhost:8080/",
          "height": 105
        },
        "outputId": "7c87f290-a617-4dc4-a2b8-6d4b7e36e587"
      },
      "source": [
        "prediction1 , prediction2 = ensemble(sample)\n",
        "print(\"PREDICTION FROM ENSEMBLE MODEL\")\n",
        "temp1 = final(prediction1)\n",
        "print(temp1)\n",
        "print()\n",
        "print(\"PREDICTION FROM NEURAL NETWORKS :\")\n",
        "temp2 = final(prediction2)\n",
        "print(temp2)"
      ],
      "execution_count": null,
      "outputs": [
        {
          "output_type": "stream",
          "text": [
            "PREDICTION FROM ENSEMBLE MODEL\n",
            "Attack Detected and it could be possibly any of them ['neptune', 'back', 'land', 'pod', 'smurf', 'teardrop', 'mailbomb', 'apache2', 'processtable', 'udpstorm', 'worm']\n",
            "\n",
            "PREDICTION FROM NEURAL NETWORKS :\n",
            "Attack Detected and it could be possibly any of them ['neptune', 'back', 'land', 'pod', 'smurf', 'teardrop', 'mailbomb', 'apache2', 'processtable', 'udpstorm', 'worm']\n"
          ],
          "name": "stdout"
        }
      ]
    },
    {
      "cell_type": "markdown",
      "metadata": {
        "id": "DC90k4rwABGs",
        "colab_type": "text"
      },
      "source": [
        "#EXTRACTING A SINGLE SAMPLE FROM ALL ATTACK TYPES\n"
      ]
    },
    {
      "cell_type": "code",
      "metadata": {
        "id": "96gm62UEAByS",
        "colab_type": "code",
        "colab": {
          "base_uri": "https://localhost:8080/",
          "height": 425
        },
        "outputId": "df48a212-8d8c-4af4-e19b-420b597810da"
      },
      "source": [
        "# EXTRACTING A SINGLE SAMPLE FROM ALL ATTACK TYPES\n",
        "\n",
        "x = pd.unique(test['label'])\n",
        "print(x)\n",
        "\n",
        "samples = []\n",
        "for i in x:\n",
        "    tempdf = test[test['label'] == i]\n",
        "    tempdf = tempdf.drop('label', axis = 1)\n",
        "    samples.append(tempdf[i:i+1].values)\n",
        "print(len(samples))\n",
        "sampless = []\n",
        "sampless.append(samples)\n",
        "sampless[0][1]"
      ],
      "execution_count": null,
      "outputs": [
        {
          "output_type": "stream",
          "text": [
            "[0 1 3 2 4]\n",
            "5\n"
          ],
          "name": "stdout"
        },
        {
          "output_type": "execute_result",
          "data": {
            "text/plain": [
              "array([[0.00e+00, 0.00e+00, 0.00e+00, 0.00e+00, 0.00e+00, 0.00e+00,\n",
              "        0.00e+00, 0.00e+00, 0.00e+00, 0.00e+00, 0.00e+00, 0.00e+00,\n",
              "        0.00e+00, 0.00e+00, 0.00e+00, 0.00e+00, 0.00e+00, 0.00e+00,\n",
              "        0.00e+00, 1.21e+02, 1.90e+01, 0.00e+00, 0.00e+00, 1.00e+00,\n",
              "        1.00e+00, 1.60e-01, 6.00e-02, 0.00e+00, 2.55e+02, 1.90e+01,\n",
              "        7.00e-02, 7.00e-02, 0.00e+00, 0.00e+00, 0.00e+00, 0.00e+00,\n",
              "        1.00e+00, 1.00e+00, 0.00e+00, 1.00e+00, 0.00e+00, 0.00e+00,\n",
              "        0.00e+00, 0.00e+00, 0.00e+00, 0.00e+00, 0.00e+00, 0.00e+00,\n",
              "        0.00e+00, 0.00e+00, 0.00e+00, 0.00e+00, 0.00e+00, 0.00e+00,\n",
              "        0.00e+00, 0.00e+00, 0.00e+00, 0.00e+00, 0.00e+00, 0.00e+00,\n",
              "        0.00e+00, 0.00e+00, 0.00e+00, 0.00e+00, 0.00e+00, 0.00e+00,\n",
              "        0.00e+00, 0.00e+00, 0.00e+00, 0.00e+00, 0.00e+00, 0.00e+00,\n",
              "        0.00e+00, 0.00e+00, 0.00e+00, 0.00e+00, 0.00e+00, 0.00e+00,\n",
              "        0.00e+00, 0.00e+00, 0.00e+00, 0.00e+00, 0.00e+00, 0.00e+00,\n",
              "        0.00e+00, 0.00e+00, 0.00e+00, 0.00e+00, 0.00e+00, 0.00e+00,\n",
              "        1.00e+00, 0.00e+00, 0.00e+00, 0.00e+00, 0.00e+00, 0.00e+00,\n",
              "        0.00e+00, 0.00e+00, 0.00e+00, 0.00e+00, 0.00e+00, 0.00e+00,\n",
              "        0.00e+00, 0.00e+00, 0.00e+00, 0.00e+00, 0.00e+00, 0.00e+00,\n",
              "        0.00e+00, 0.00e+00, 0.00e+00, 0.00e+00, 1.00e+00, 0.00e+00,\n",
              "        0.00e+00, 0.00e+00, 0.00e+00, 0.00e+00, 0.00e+00, 0.00e+00,\n",
              "        0.00e+00, 0.00e+00]])"
            ]
          },
          "metadata": {
            "tags": []
          },
          "execution_count": 98
        }
      ]
    },
    {
      "cell_type": "markdown",
      "metadata": {
        "id": "ILLVutc-AjtC",
        "colab_type": "text"
      },
      "source": [
        "# Multiple Input Prediction"
      ]
    },
    {
      "cell_type": "code",
      "metadata": {
        "id": "ZZCQr5IjAGKV",
        "colab_type": "code",
        "colab": {
          "base_uri": "https://localhost:8080/",
          "height": 481
        },
        "outputId": "007d744f-5df2-40c1-89e9-e52d2ca51e2a"
      },
      "source": [
        "x = pd.unique(test['label'])\n",
        "\n",
        "for i in x:\n",
        "    #print(sampless[0][i])\n",
        "    prediction1 , prediction2 = ensemble(sampless[0][i])\n",
        "    print(\"PREDICTION FROM ENSEMBLE MODEL\")\n",
        "    temp1 = final(prediction1)\n",
        "    print(temp1)\n",
        "    print()\n",
        "    print(\"PREDICTION FROM NEURAL NETWORKS :\")\n",
        "    temp2 = final(prediction2)\n",
        "    print(temp2)"
      ],
      "execution_count": null,
      "outputs": [
        {
          "output_type": "stream",
          "text": [
            "PREDICTION FROM ENSEMBLE MODEL\n",
            "THERE IS NO ATTACK DETECTED OR ['Normal']\n",
            "\n",
            "PREDICTION FROM NEURAL NETWORKS :\n",
            "THERE IS NO ATTACK DETECTED OR ['Normal']\n",
            "PREDICTION FROM ENSEMBLE MODEL\n",
            "Attack Detected and it could be possibly any of them ['neptune', 'back', 'land', 'pod', 'smurf', 'teardrop', 'mailbomb', 'apache2', 'processtable', 'udpstorm', 'worm']\n",
            "\n",
            "PREDICTION FROM NEURAL NETWORKS :\n",
            "Attack Detected and it could be possibly any of them ['neptune', 'back', 'land', 'pod', 'smurf', 'teardrop', 'mailbomb', 'apache2', 'processtable', 'udpstorm', 'worm']\n",
            "PREDICTION FROM ENSEMBLE MODEL\n",
            "Attack Detected and it could be possibly any of them ['ipsweep', 'nmap', 'portsweep', 'satan', 'mscan', 'saint']\n",
            "\n",
            "PREDICTION FROM NEURAL NETWORKS :\n",
            "Attack Detected and it could be possibly any of them ['neptune', 'back', 'land', 'pod', 'smurf', 'teardrop', 'mailbomb', 'apache2', 'processtable', 'udpstorm', 'worm']\n",
            "PREDICTION FROM ENSEMBLE MODEL\n",
            "Attack Detected and it could be possibly any of them ['ftp_write', 'guess_passwd', 'imap', 'multihop', 'phf', 'spy', 'warezclient', 'warezmaster', 'sendmail', 'named', 'snmpgetattack', 'snmpguess', 'xlock', 'xsnoop', 'httptunnel']\n",
            "\n",
            "PREDICTION FROM NEURAL NETWORKS :\n",
            "Attack Detected and it could be possibly any of them ['ipsweep', 'nmap', 'portsweep', 'satan', 'mscan', 'saint']\n",
            "PREDICTION FROM ENSEMBLE MODEL\n",
            "Attack Detected and it could be possibly any of them ['buffer_overflow', 'loadmodule', 'perl', 'rootkit', 'ps', 'sqlattack', 'xterm']\n",
            "\n",
            "PREDICTION FROM NEURAL NETWORKS :\n",
            "Attack Detected and it could be possibly any of them ['neptune', 'back', 'land', 'pod', 'smurf', 'teardrop', 'mailbomb', 'apache2', 'processtable', 'udpstorm', 'worm']\n"
          ],
          "name": "stdout"
        }
      ]
    },
    {
      "cell_type": "code",
      "metadata": {
        "id": "BHNDT8JVAZcp",
        "colab_type": "code",
        "colab": {}
      },
      "source": [
        ""
      ],
      "execution_count": null,
      "outputs": []
    }
  ]
}